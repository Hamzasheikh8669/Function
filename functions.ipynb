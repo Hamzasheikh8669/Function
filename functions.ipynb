{
  "nbformat": 4,
  "nbformat_minor": 0,
  "metadata": {
    "colab": {
      "provenance": []
    },
    "kernelspec": {
      "name": "python3",
      "display_name": "Python 3"
    },
    "language_info": {
      "name": "python"
    }
  },
  "cells": [
    {
      "cell_type": "code",
      "execution_count": 1,
      "metadata": {
        "colab": {
          "base_uri": "https://localhost:8080/"
        },
        "id": "eRylqvLIV1hd",
        "outputId": "a3a4ad68-d14a-47bd-8844-166cfcd6f483"
      },
      "outputs": [
        {
          "output_type": "stream",
          "name": "stdout",
          "text": [
            "10.0\n"
          ]
        }
      ],
      "source": [
        "def avg(a, b, c)-> int:\n",
        "  sum = a + b + c\n",
        "  avg = sum / 3\n",
        "  return avg\n",
        "\n",
        "output = avg(10,10,10)\n",
        "print(output)"
      ]
    },
    {
      "cell_type": "code",
      "source": [
        "# Built in function\n",
        "print(\"sheikh\", end= \" \")  # last two lines print in same line\n",
        "\n",
        "print(\"Hamza\")\n",
        "\n",
        "# print\n",
        "# len()\n",
        "# type()\n",
        "# range()"
      ],
      "metadata": {
        "colab": {
          "base_uri": "https://localhost:8080/"
        },
        "id": "8umSbFHjX3z8",
        "outputId": "7faee5fc-c392-4b76-f603-0c36e6007119"
      },
      "execution_count": 2,
      "outputs": [
        {
          "output_type": "stream",
          "name": "stdout",
          "text": [
            "sheikh Hamza\n"
          ]
        }
      ]
    },
    {
      "cell_type": "code",
      "source": [
        "# default parameter\n",
        "# def nums(b,a=34):\n",
        "#   print(a*b)\n",
        "#   return a*b\n",
        "\n",
        "# nums(32)\n",
        "\n",
        "def nums(a=2,b): # throw me an error because (first non-default arguments then default arguments)\n",
        "#  default parameter always give from last\n",
        "  print(a*b)\n",
        "  return a*b\n",
        "\n",
        "nums(32)"
      ],
      "metadata": {
        "colab": {
          "base_uri": "https://localhost:8080/",
          "height": 110
        },
        "id": "PMrVdsZ4ZyxO",
        "outputId": "a5b3f0ab-10df-4ff8-d91b-4a8076ee627a"
      },
      "execution_count": 3,
      "outputs": [
        {
          "output_type": "error",
          "ename": "SyntaxError",
          "evalue": "non-default argument follows default argument (<ipython-input-3-6f3007ad8bf1>, line 8)",
          "traceback": [
            "\u001b[0;36m  File \u001b[0;32m\"<ipython-input-3-6f3007ad8bf1>\"\u001b[0;36m, line \u001b[0;32m8\u001b[0m\n\u001b[0;31m    def nums(a=2,b): # throw me an error because (first non-default arguments then default arguments)\u001b[0m\n\u001b[0m                 ^\u001b[0m\n\u001b[0;31mSyntaxError\u001b[0m\u001b[0;31m:\u001b[0m non-default argument follows default argument\n"
          ]
        }
      ]
    },
    {
      "cell_type": "code",
      "source": [
        "# ques 1\n",
        "cities = [\"karachi\",\"islamabad\",\"lahore\",\"multan\",\"peshawar\"]\n",
        "def printLen(list):\n",
        "  print(len(list))\n",
        "\n",
        "printLen(cities)\n"
      ],
      "metadata": {
        "colab": {
          "base_uri": "https://localhost:8080/"
        },
        "id": "0ZysqSX-bhgD",
        "outputId": "cb291735-4de2-42d8-83d8-02b1df4495bc"
      },
      "execution_count": 4,
      "outputs": [
        {
          "output_type": "stream",
          "name": "stdout",
          "text": [
            "5\n"
          ]
        }
      ]
    },
    {
      "cell_type": "code",
      "source": [
        "# ques 2\n",
        "names = [\"hamza\",\"waleed\",\"asad\",\"tariq\",\"sharib\"]\n",
        "\n",
        "def print_list(list):\n",
        "  for item in list:\n",
        "    print(item, end=\" \")\n",
        "\n",
        "print_list(names)\n"
      ],
      "metadata": {
        "colab": {
          "base_uri": "https://localhost:8080/"
        },
        "id": "sXNWBqKwdbow",
        "outputId": "1b351fc0-8e21-4c66-c05c-69ecc37fb038"
      },
      "execution_count": 5,
      "outputs": [
        {
          "output_type": "stream",
          "name": "stdout",
          "text": [
            "hamza waleed asad tariq sharib "
          ]
        }
      ]
    },
    {
      "cell_type": "code",
      "source": [
        "# ques 03\n",
        "\n",
        "def calFac(n):\n",
        "  fact = 1\n",
        "  for i in range(1,n+1):\n",
        "    fact = fact * i\n",
        "  print(fact)\n",
        "calFac(5)"
      ],
      "metadata": {
        "colab": {
          "base_uri": "https://localhost:8080/"
        },
        "id": "uGzJI7gxfF9q",
        "outputId": "3a8b9475-fd3a-4ecf-e472-b2d3e3e992e5"
      },
      "execution_count": 6,
      "outputs": [
        {
          "output_type": "stream",
          "name": "stdout",
          "text": [
            "120\n"
          ]
        }
      ]
    },
    {
      "cell_type": "code",
      "source": [
        "# ques 04\n",
        "def convert(USD):\n",
        "  pkr =  USD * 278\n",
        "  print( USD , \"USD = \" , pkr, \"PKR \")\n",
        "\n",
        "convert(563)"
      ],
      "metadata": {
        "colab": {
          "base_uri": "https://localhost:8080/"
        },
        "id": "8wbJEETng4jo",
        "outputId": "68ed0689-9da2-4696-9a50-fccf13ea1479"
      },
      "execution_count": 7,
      "outputs": [
        {
          "output_type": "stream",
          "name": "stdout",
          "text": [
            "563 USD =  156514 PKR \n"
          ]
        }
      ]
    },
    {
      "cell_type": "code",
      "source": [
        "#  ques 05\n",
        "def num(n):\n",
        "  if(n%2 == 0):\n",
        "    print(\"even\")\n",
        "  else:\n",
        "    print(\"odd\")\n",
        "\n",
        "num(264533)"
      ],
      "metadata": {
        "colab": {
          "base_uri": "https://localhost:8080/"
        },
        "id": "ReUgWVOZEh67",
        "outputId": "7b663aef-0309-446c-cf4e-fd0e709f7e75"
      },
      "execution_count": 8,
      "outputs": [
        {
          "output_type": "stream",
          "name": "stdout",
          "text": [
            "odd\n"
          ]
        }
      ]
    },
    {
      "cell_type": "markdown",
      "source": [
        "# **Recursion function**"
      ],
      "metadata": {
        "id": "ojtlcRlBGzAX"
      }
    },
    {
      "cell_type": "code",
      "source": [
        "def show(n):\n",
        "  if n == 3: # base case\n",
        "    return\n",
        "  print(n)\n",
        "  show(n-1)\n",
        "  print(\"end\")\n",
        "\n",
        "show(5)"
      ],
      "metadata": {
        "colab": {
          "base_uri": "https://localhost:8080/"
        },
        "id": "fprWwHeFG_Ir",
        "outputId": "8c997bfc-688e-4d66-c1d5-8bf429808b15"
      },
      "execution_count": 9,
      "outputs": [
        {
          "output_type": "stream",
          "name": "stdout",
          "text": [
            "5\n",
            "4\n",
            "end\n",
            "end\n"
          ]
        }
      ]
    },
    {
      "cell_type": "code",
      "source": [
        "def fact(n):\n",
        "  if(n == 1 or n == 0) :\n",
        "    return 1\n",
        "  return n * fact(n-1)\n",
        "\n",
        "fact(5)"
      ],
      "metadata": {
        "colab": {
          "base_uri": "https://localhost:8080/"
        },
        "id": "0f7rin1lOGYC",
        "outputId": "ee280303-fa33-458f-cdfb-ae390af0c304"
      },
      "execution_count": 10,
      "outputs": [
        {
          "output_type": "execute_result",
          "data": {
            "text/plain": [
              "120"
            ]
          },
          "metadata": {},
          "execution_count": 10
        }
      ]
    },
    {
      "cell_type": "code",
      "source": [
        "# ques 1\n",
        "def calc_sum(n):\n",
        "  if(n == 1):\n",
        "    return 1\n",
        "  return n + calc_sum(n-1)\n",
        "\n",
        "calc_sum(10)\n",
        "#"
      ],
      "metadata": {
        "colab": {
          "base_uri": "https://localhost:8080/"
        },
        "id": "lbpGVyN0Q2pU",
        "outputId": "6efa364e-fd59-4689-d104-28b64cac9223"
      },
      "execution_count": 11,
      "outputs": [
        {
          "output_type": "execute_result",
          "data": {
            "text/plain": [
              "55"
            ]
          },
          "metadata": {},
          "execution_count": 11
        }
      ]
    },
    {
      "cell_type": "code",
      "source": [
        "def calc_sum(n):\n",
        "  if(n == 0):\n",
        "    return 0\n",
        "  return calc_sum(n-1) + n\n",
        "\n",
        "print(calc_sum(10))"
      ],
      "metadata": {
        "colab": {
          "base_uri": "https://localhost:8080/"
        },
        "id": "q1N54l3WTwUA",
        "outputId": "6b965840-0cb2-448b-87cd-3c58aa14fe13"
      },
      "execution_count": 12,
      "outputs": [
        {
          "output_type": "stream",
          "name": "stdout",
          "text": [
            "55\n"
          ]
        }
      ]
    },
    {
      "cell_type": "code",
      "source": [
        "def print_list(list,idx=0):\n",
        "  if idx == len(list):\n",
        "    return\n",
        "  print(list[idx])\n",
        "  print_list(list,idx+1)\n",
        "\n",
        "names = [\"hamza\",\"waleed\",\"asad\",\"tariq\",\"sharib\"]\n",
        "print_list(names)"
      ],
      "metadata": {
        "colab": {
          "base_uri": "https://localhost:8080/"
        },
        "id": "43cwi2kSV2cI",
        "outputId": "ea2940f8-d1bd-41e1-8506-1dd4ae6f969c"
      },
      "execution_count": 13,
      "outputs": [
        {
          "output_type": "stream",
          "name": "stdout",
          "text": [
            "hamza\n",
            "waleed\n",
            "asad\n",
            "tariq\n",
            "sharib\n"
          ]
        }
      ]
    }
  ]
}